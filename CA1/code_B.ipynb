{
 "cells": [
  {
   "cell_type": "markdown",
   "id": "0909f83c",
   "metadata": {},
   "source": [
    "# Q1"
   ]
  },
  {
   "cell_type": "code",
   "execution_count": 1,
   "id": "096dfad4",
   "metadata": {},
   "outputs": [
    {
     "data": {
      "image/png": "[encoded data removed]",
      "text/plain": [
       "<Figure size 432x288 with 1 Axes>"
      ]
     },
     "metadata": {
      "needs_background": "light"
     },
     "output_type": "display_data"
    }
   ],
   "source": [
    "import matplotlib.pyplot as plt\n",
    "import numpy as np\n",
    "fig = plt.figure()\n",
    "ax = fig.gca()\n",
    "ax.set_xticks(np.arange(-5, 5, 1))\n",
    "ax.set_yticks(np.arange(-5, 5, 1))\n",
    "plt.grid()\n",
    "plt.show()"
   ]
  },
  {
   "cell_type": "markdown",
   "id": "fe3c8c11",
   "metadata": {},
   "source": [
    "# Q2"
   ]
  },
  {
   "cell_type": "code",
   "execution_count": 2,
   "id": "dd9b3dca",
   "metadata": {},
   "outputs": [
    {
     "data": {
      "image/png": "[encoded data removed]",
      "text/plain": [
       "<Figure size 432x288 with 1 Axes>"
      ]
     },
     "metadata": {
      "needs_background": "light"
     },
     "output_type": "display_data"
    }
   ],
   "source": [
    "X = [0,0]\n",
    "Y = [0,0]\n",
    "U = [1,-1] \n",
    "V = [2,-2] \n",
    "fig, ax = plt.subplots()\n",
    "ax.quiver(X, Y, U, V,color=['g','r'], angles='xy', scale_units='xy',scale=1)\n",
    "ax.set_xticks(np.arange(-5, 5, 1))\n",
    "ax.set_yticks(np.arange(-5, 5, 1))\n",
    "plt.grid()\n",
    "plt.show()"
   ]
  },
  {
   "cell_type": "markdown",
   "id": "ba5f2ff0",
   "metadata": {},
   "source": [
    "# Q3"
   ]
  },
  {
   "cell_type": "code",
   "execution_count": 3,
   "id": "88316f72",
   "metadata": {},
   "outputs": [
    {
     "data": {
      "image/png": "[encoded data removed]",
      "text/plain": [
       "<Figure size 432x288 with 1 Axes>"
      ]
     },
     "metadata": {
      "needs_background": "light"
     },
     "output_type": "display_data"
    }
   ],
   "source": [
    "scaler = np.arange(-10, 10, 0.01)\n",
    "scaler = scaler.reshape(scaler.shape[0], 1)\n",
    "np.random.shuffle(scaler)\n",
    "\n",
    "scaler2 = np.arange(-10, 10, 0.01)\n",
    "scaler2 = scaler2.reshape(scaler2.shape[0], 1)\n",
    "np.random.shuffle(scaler2)\n",
    "\n",
    "fig, ax = plt.subplots()\n",
    "\n",
    "i = 0\n",
    "\n",
    "for x in scaler:\n",
    "    U = [scaler2[i] - x]\n",
    "    V = [x*(-2) + scaler2[i]*2]\n",
    "    i += 1\n",
    "    plt.plot(U, V,'b.')\n",
    "        \n",
    "plt.xlim(-5,5)\n",
    "plt.ylim(-5,5)\n",
    "\n",
    "plt.grid()\n",
    "plt.show()\n"
   ]
  },
  {
   "cell_type": "markdown",
   "id": "29ea2166",
   "metadata": {},
   "source": [
    "###### دو بردار در این قسمت بر خلاف قسمت قبلی هم راستا هستند پس اسپن آن ها یک خط هم راستا با آن ها و گذرنده از مبدا می باشد \n",
    "######  در قسمت قبلی چون بردارها هم راستا نبودند اسپن آن ها کل بردارهای صفحه می شود\n",
    "###### اگر دو بردار مستقل خطی نباشند اسکیل کردن آن ها تغییری در اسپن دو بردار ایجاد نمی کند (مانند این قسمت که با اسکیل کردن و حذف یکی از بردارها اسپن تغییر نمی کند) ولی اگر دو بردار مستقل خطی باشند اسکیل کردن یا حذف هر کدام از بردارها در تغییر اسپن نقش دارند \n",
    "###### در صورت کوچکتر کردن آرگومان سوم این تابع اسپن در همان راستا نقاط بیشتری را در بر میگیرد"
   ]
  }
 ],
 "metadata": {
  "kernelspec": {
   "display_name": "Python 3 (ipykernel)",
   "language": "python",
   "name": "python3"
  },
  "language_info": {
   "codemirror_mode": {
    "name": "ipython",
    "version": 3
   },
   "file_extension": ".py",
   "mimetype": "text/x-python",
   "name": "python",
   "nbconvert_exporter": "python",
   "pygments_lexer": "ipython3",
   "version": "3.9.4"
  }
 },
 "nbformat": 4,
 "nbformat_minor": 5
}
