{
 "cells": [
  {
   "cell_type": "code",
   "execution_count": 30,
   "id": "8a875940",
   "metadata": {
    "scrolled": true
   },
   "outputs": [
    {
     "name": "stdout",
     "output_type": "stream",
     "text": [
      "Enter number of variables: 4\n",
      "1a + 1b + 2c + 3.5d = 10\n",
      "2a - 1b + 5c + 4.5d = 20\n",
      "-4a + 12.5b + 7c + 8d = 2\n",
      "1a + 6.5b - 8c - 4d = 5\n",
      "a = 7.523567467652495\n",
      "b = 1.9731977818853974\n",
      "c = 2.5854898336414047\n",
      "d = -1.3336414048059149\n"
     ]
    }
   ],
   "source": [
    "import re\n",
    "import numpy as np\n",
    "\n",
    "def det(matrix,n):\n",
    "    if n == 1:\n",
    "        return matrix[0][0]\n",
    "    answer = 0\n",
    "    k = []\n",
    "    for i in range(n):\n",
    "        matrix2 = matrix[:]\n",
    "        del matrix2[i]\n",
    "        for j in matrix2:\n",
    "            k.append(j[1:])\n",
    "        answer += matrix[i][0]*(-1)**i*det(k,n-1)\n",
    "        k = []\n",
    "        \n",
    "    return answer\n",
    "\n",
    "\n",
    "number = input(\"Enter number of variables: \")\n",
    "number = int(number)\n",
    "equations = []\n",
    "for i in range(number):\n",
    "    equations.append(input())\n",
    "\n",
    "list2 = []\n",
    "# main matrix\n",
    "matrix1 = []\n",
    "answer1 = []\n",
    "# matrix of answers\n",
    "answer2 = []\n",
    "\n",
    "# array for variables\n",
    "variables = []\n",
    "variables = re.findall('[a-zA-Z]',equations[0])\n",
    "\n",
    "for e in equations:\n",
    "    list1 = re.split('\\\\w |\\\\w |\\\\w |\\\\w |\\\\= ',e)\n",
    "    list2.append(float(list1[0]))\n",
    "    for i in range(1,4):\n",
    "        list3 = re.split(' ',list1[i])\n",
    "        if list3[0]=='+':\n",
    "            list2.append(float(list3[1]))\n",
    "        elif list3[0]=='-':\n",
    "            list2.append(float(list3[1])*(-1))\n",
    "            \n",
    "    answer1.append(float(list1[len(list1)-1]))\n",
    "    # convert to matrix\n",
    "    answer2.append(answer1)\n",
    "    matrix1.append(list2)\n",
    "    list2 = []\n",
    "    answer1 = []\n",
    "\n",
    "finalAnswers = []\n",
    "determinate = det(matrix1,number)\n",
    "if determinate == 0 :\n",
    "    print(\"Unsolvable\")\n",
    "    \n",
    "else :\n",
    "    for i in range(number):\n",
    "        changedMatrix = []\n",
    "        for r,a in zip(matrix1,answer2):\n",
    "            changedMatrix.append(r[0:i]+a+r[i+1:])\n",
    "        finalAnswers.append(det(changedMatrix,number)/determinate)\n",
    "    # print answers    \n",
    "    for i in range(number):\n",
    "        \n",
    "        print(variables[i]+\" = \"+str(finalAnswers[i]))"
   ]
  },
  {
   "cell_type": "code",
   "execution_count": null,
   "id": "e313175f",
   "metadata": {},
   "outputs": [],
   "source": []
  }
 ],
 "metadata": {
  "kernelspec": {
   "display_name": "Python 3 (ipykernel)",
   "language": "python",
   "name": "python3"
  },
  "language_info": {
   "codemirror_mode": {
    "name": "ipython",
    "version": 3
   },
   "file_extension": ".py",
   "mimetype": "text/x-python",
   "name": "python",
   "nbconvert_exporter": "python",
   "pygments_lexer": "ipython3",
   "version": "3.9.4"
  }
 },
 "nbformat": 4,
 "nbformat_minor": 5
}
